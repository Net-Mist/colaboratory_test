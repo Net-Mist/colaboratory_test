{
 "cells": [
  {
   "cell_type": "markdown",
   "metadata": {},
   "source": [
    "# Google Colab MNIST test"
   ]
  },
  {
   "cell_type": "markdown",
   "metadata": {},
   "source": [
    "Results :\n",
    "\n",
    "| Material         | Train time/step | Eval time/step |\n",
    "| ---------------- | --------------- | -------------- |\n",
    "| Google TPU              | 50 ms           |   69 ms        |\n",
    "| GTX 1080         | 16 ms           |   14 ms        |\n",
    "| i7-8700K         | 250 ms          |   77 ms        |\n",
    "| Google CPU       | 1 s             |   270 ms        | \n",
    "| Google GPU (Tesla K80) |   40 ms            |   18 ms           |"
   ]
  },
  {
   "cell_type": "code",
   "execution_count": 1,
   "metadata": {},
   "outputs": [
    {
     "name": "stdout",
     "output_type": "stream",
     "text": [
      "tf version : 1.12.0\n",
      "keras version : 2.1.6-tf\n",
      "python version : 3.7.1 (default, Oct 22 2018, 10:41:28) \n",
      "[GCC 8.2.1 20180831]\n"
     ]
    }
   ],
   "source": [
    "import sys\n",
    "import os\n",
    "import tensorflow as tf\n",
    "from tensorflow import keras\n",
    "\n",
    "from tensorflow.keras.datasets import mnist, fashion_mnist\n",
    "\n",
    "print(f\"tf version : {tf.__version__}\\n\"\n",
    "      f\"keras version : {keras.__version__}\\n\"\n",
    "      f\"python version : {sys.version}\")"
   ]
  },
  {
   "cell_type": "markdown",
   "metadata": {},
   "source": [
    "## Check for TPU"
   ]
  },
  {
   "cell_type": "code",
   "execution_count": 2,
   "metadata": {},
   "outputs": [
    {
     "name": "stdout",
     "output_type": "stream",
     "text": [
      "TPU not found\n"
     ]
    }
   ],
   "source": [
    "def get_tpu_address():\n",
    "    tpu_address = \"\"\n",
    "    try:\n",
    "        device_name = os.environ['COLAB_TPU_ADDR']\n",
    "        tpu_address = 'grpc://' + device_name\n",
    "        print('Found TPU at: {}'.format(tpu_address))\n",
    "    except KeyError:\n",
    "        print('TPU not found')\n",
    "    return tpu_address\n",
    "\n",
    "tpu_address = get_tpu_address()"
   ]
  },
  {
   "cell_type": "code",
   "execution_count": 3,
   "metadata": {},
   "outputs": [],
   "source": [
    "# Run this cell to disable gpu\n",
    "os.environ['CUDA_VISIBLE_DEVICES'] = ''"
   ]
  },
  {
   "cell_type": "markdown",
   "metadata": {},
   "source": [
    "## Prepare MNIST"
   ]
  },
  {
   "cell_type": "code",
   "execution_count": 4,
   "metadata": {},
   "outputs": [],
   "source": [
    "batch_size = 1024\n",
    "num_classes = 10\n",
    "epochs = 5\n",
    "learning_rate = 0.001\n",
    "\n",
    "# input image dimensions\n",
    "img_rows, img_cols = 28, 28\n",
    "\n",
    "# the data, shuffled and split between train and test sets\n",
    "(x_train, y_train), (x_test, y_test) = mnist.load_data()"
   ]
  },
  {
   "cell_type": "code",
   "execution_count": 5,
   "metadata": {},
   "outputs": [],
   "source": [
    "x_train = x_train.reshape(x_train.shape[0], img_rows, img_cols, 1)\n",
    "x_test = x_test.reshape(x_test.shape[0], img_rows, img_cols, 1)\n",
    "input_shape = (img_rows, img_cols, 1)"
   ]
  },
  {
   "cell_type": "code",
   "execution_count": 6,
   "metadata": {},
   "outputs": [
    {
     "name": "stdout",
     "output_type": "stream",
     "text": [
      "x_train shape: (60000, 28, 28, 1)\n",
      "60000 train samples\n",
      "10000 test samples\n"
     ]
    }
   ],
   "source": [
    "x_train = x_train.astype('float32') / 255\n",
    "x_test = x_test.astype('float32') / 255\n",
    "print('x_train shape:', x_train.shape)\n",
    "print(x_train.shape[0], 'train samples')\n",
    "print(x_test.shape[0], 'test samples')"
   ]
  },
  {
   "cell_type": "code",
   "execution_count": 7,
   "metadata": {},
   "outputs": [],
   "source": [
    "y_train = tf.keras.utils.to_categorical(y_train, num_classes)\n",
    "y_test = tf.keras.utils.to_categorical(y_test, num_classes)"
   ]
  },
  {
   "cell_type": "code",
   "execution_count": 8,
   "metadata": {},
   "outputs": [],
   "source": [
    "def train_input_fn(batch_size=1024):\n",
    "    dataset = tf.data.Dataset.from_tensor_slices((x_train,y_train))\n",
    "    dataset = dataset.shuffle(1000).repeat().batch(batch_size, drop_remainder=True)\n",
    "    return dataset\n",
    "\n",
    "\n",
    "def test_input_fn(batch_size=1024):\n",
    "    dataset = tf.data.Dataset.from_tensor_slices((x_test,y_test))\n",
    "    dataset = dataset.shuffle(1000).repeat().batch(batch_size, drop_remainder=True)\n",
    "    return dataset\n",
    "\n"
   ]
  },
  {
   "cell_type": "markdown",
   "metadata": {},
   "source": [
    "## Prepare model"
   ]
  },
  {
   "cell_type": "code",
   "execution_count": 9,
   "metadata": {},
   "outputs": [],
   "source": [
    "Input = tf.keras.Input\n",
    "Conv2D = tf.keras.layers.Conv2D\n",
    "MaxPooling2D = tf.keras.layers.MaxPooling2D\n",
    "Flatten = tf.keras.layers.Flatten\n",
    "Dropout = tf.keras.layers.Dropout\n",
    "Dense = tf.keras.layers.Dense\n",
    "\n",
    "inputs = Input(name='input', \n",
    "               shape=input_shape, \n",
    "               batch_size=batch_size, \n",
    "               dtype=tf.float32)\n",
    "\n",
    "x = Conv2D(32, kernel_size=(3, 3), activation='relu',name = 'Conv_01')(inputs)\n",
    "x = MaxPooling2D(pool_size=(2, 2),name = 'MaxPool_01')(x)\n",
    "x = Conv2D(64, (3, 3), activation='relu',name = 'Conv_02')(x)\n",
    "x = MaxPooling2D(pool_size=(2, 2),name = 'MaxPool_02')(x)\n",
    "x = Conv2D(64, (3, 3), activation='relu',name = 'Conv_03')(x)\n",
    "x = Flatten(name = 'Flatten_01')(x)\n",
    "x = Dense(64, activation='relu',name = 'Dense_01')(x)\n",
    "x = Dropout(0.5,name = 'Dropout_02')(x)\n",
    "\n",
    "output = Dense(num_classes, activation='softmax',name = 'Dense_02')(x)\n",
    "\n",
    "model = tf.keras.Model(inputs=[inputs], outputs=[output])"
   ]
  },
  {
   "cell_type": "code",
   "execution_count": 10,
   "metadata": {},
   "outputs": [],
   "source": [
    "# use a tf optimizer rather than a Keras one for now\n",
    "opt = tf.train.AdamOptimizer(learning_rate)\n",
    "\n",
    "model.compile(\n",
    "    optimizer=opt,\n",
    "    loss='categorical_crossentropy',\n",
    "    metrics=['acc'])\n"
   ]
  },
  {
   "cell_type": "markdown",
   "metadata": {},
   "source": [
    "## Train and evaluate on TPU"
   ]
  },
  {
   "cell_type": "code",
   "execution_count": null,
   "metadata": {},
   "outputs": [],
   "source": [
    "tpu_model = tf.contrib.tpu.keras_to_tpu_model(\n",
    "    model,\n",
    "    strategy=tf.contrib.tpu.TPUDistributionStrategy(\n",
    "        tf.contrib.cluster_resolver.TPUClusterResolver(TPU_ADDRESS)))"
   ]
  },
  {
   "cell_type": "code",
   "execution_count": null,
   "metadata": {},
   "outputs": [],
   "source": [
    "tpu_model.summary()"
   ]
  },
  {
   "cell_type": "code",
   "execution_count": null,
   "metadata": {},
   "outputs": [],
   "source": [
    "tpu_model.fit(\n",
    "  train_input_fn,\n",
    "  steps_per_epoch = 60,\n",
    "  epochs=10,\n",
    ")"
   ]
  },
  {
   "cell_type": "code",
   "execution_count": null,
   "metadata": {},
   "outputs": [],
   "source": [
    "tpu_model.evaluate(test_input_fn, steps = 100)"
   ]
  },
  {
   "cell_type": "markdown",
   "metadata": {},
   "source": [
    "## Train and evaluate on GPU/CPU"
   ]
  },
  {
   "cell_type": "code",
   "execution_count": 11,
   "metadata": {},
   "outputs": [
    {
     "name": "stdout",
     "output_type": "stream",
     "text": [
      "_________________________________________________________________\n",
      "Layer (type)                 Output Shape              Param #   \n",
      "=================================================================\n",
      "input (InputLayer)           (1024, 28, 28, 1)         0         \n",
      "_________________________________________________________________\n",
      "Conv_01 (Conv2D)             (1024, 26, 26, 32)        320       \n",
      "_________________________________________________________________\n",
      "MaxPool_01 (MaxPooling2D)    (1024, 13, 13, 32)        0         \n",
      "_________________________________________________________________\n",
      "Conv_02 (Conv2D)             (1024, 11, 11, 64)        18496     \n",
      "_________________________________________________________________\n",
      "MaxPool_02 (MaxPooling2D)    (1024, 5, 5, 64)          0         \n",
      "_________________________________________________________________\n",
      "Conv_03 (Conv2D)             (1024, 3, 3, 64)          36928     \n",
      "_________________________________________________________________\n",
      "Flatten_01 (Flatten)         (1024, 576)               0         \n",
      "_________________________________________________________________\n",
      "Dense_01 (Dense)             (1024, 64)                36928     \n",
      "_________________________________________________________________\n",
      "Dropout_02 (Dropout)         (1024, 64)                0         \n",
      "_________________________________________________________________\n",
      "Dense_02 (Dense)             (1024, 10)                650       \n",
      "=================================================================\n",
      "Total params: 93,322\n",
      "Trainable params: 93,322\n",
      "Non-trainable params: 0\n",
      "_________________________________________________________________\n"
     ]
    }
   ],
   "source": [
    "model.summary()"
   ]
  },
  {
   "cell_type": "code",
   "execution_count": 12,
   "metadata": {},
   "outputs": [
    {
     "name": "stdout",
     "output_type": "stream",
     "text": [
      "Epoch 1/10\n",
      "60/60 [==============================] - 16s 259ms/step - loss: 1.1162 - acc: 0.6367\n",
      "Epoch 2/10\n",
      "60/60 [==============================] - 16s 268ms/step - loss: 0.3684 - acc: 0.8883\n",
      "Epoch 3/10\n",
      "60/60 [==============================] - 15s 248ms/step - loss: 0.2397 - acc: 0.9285\n",
      "Epoch 4/10\n",
      "60/60 [==============================] - 15s 248ms/step - loss: 0.1890 - acc: 0.9454\n",
      "Epoch 5/10\n",
      "60/60 [==============================] - 15s 252ms/step - loss: 0.1558 - acc: 0.9543\n",
      "Epoch 6/10\n",
      "60/60 [==============================] - 15s 246ms/step - loss: 0.1323 - acc: 0.9618\n",
      "Epoch 7/10\n",
      "60/60 [==============================] - 15s 246ms/step - loss: 0.1185 - acc: 0.9655\n",
      "Epoch 8/10\n",
      "60/60 [==============================] - 15s 253ms/step - loss: 0.1057 - acc: 0.9685\n",
      "Epoch 9/10\n",
      "60/60 [==============================] - 15s 246ms/step - loss: 0.0972 - acc: 0.9721\n",
      "Epoch 10/10\n",
      "60/60 [==============================] - 15s 253ms/step - loss: 0.0864 - acc: 0.9758\n"
     ]
    },
    {
     "data": {
      "text/plain": [
       "<tensorflow.python.keras.callbacks.History at 0x7fb960098eb8>"
      ]
     },
     "execution_count": 12,
     "metadata": {},
     "output_type": "execute_result"
    }
   ],
   "source": [
    "model.fit(\n",
    "  train_input_fn(),\n",
    "  steps_per_epoch = 60,\n",
    "  epochs=10,\n",
    ")"
   ]
  },
  {
   "cell_type": "code",
   "execution_count": 13,
   "metadata": {},
   "outputs": [
    {
     "name": "stdout",
     "output_type": "stream",
     "text": [
      "100/100 [==============================] - 8s 77ms/step\n"
     ]
    },
    {
     "data": {
      "text/plain": [
       "[0.036014498695731166, 0.987919921875]"
      ]
     },
     "execution_count": 13,
     "metadata": {},
     "output_type": "execute_result"
    }
   ],
   "source": [
    "model.evaluate(test_input_fn(), steps = 100)"
   ]
  },
  {
   "cell_type": "code",
   "execution_count": null,
   "metadata": {},
   "outputs": [],
   "source": []
  }
 ],
 "metadata": {
  "kernelspec": {
   "display_name": "Python 3",
   "language": "python",
   "name": "python3"
  },
  "language_info": {
   "codemirror_mode": {
    "name": "ipython",
    "version": 3
   },
   "file_extension": ".py",
   "mimetype": "text/x-python",
   "name": "python",
   "nbconvert_exporter": "python",
   "pygments_lexer": "ipython3",
   "version": "3.7.1"
  }
 },
 "nbformat": 4,
 "nbformat_minor": 2
}
